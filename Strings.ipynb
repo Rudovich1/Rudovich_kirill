{
  "nbformat": 4,
  "nbformat_minor": 0,
  "metadata": {
    "colab": {
      "name": "Strings.ipynb",
      "provenance": [],
      "collapsed_sections": [],
      "authorship_tag": "ABX9TyMUYsSZ8jEycmR5jhs8z7D/",
      "include_colab_link": true
    },
    "kernelspec": {
      "name": "python3",
      "display_name": "Python 3"
    },
    "language_info": {
      "name": "python"
    }
  },
  "cells": [
    {
      "cell_type": "markdown",
      "metadata": {
        "id": "view-in-github",
        "colab_type": "text"
      },
      "source": [
        "<a href=\"https://colab.research.google.com/github/Rudovich1/super-duper-goggles/blob/main/Strings.ipynb\" target=\"_parent\"><img src=\"https://colab.research.google.com/assets/colab-badge.svg\" alt=\"Open In Colab\"/></a>"
      ]
    },
    {
      "cell_type": "code",
      "execution_count": 46,
      "metadata": {
        "colab": {
          "base_uri": "https://localhost:8080/"
        },
        "id": "Be1WoeiwGPOM",
        "outputId": "5896e259-65ae-4816-db87-4eba8f6c2773"
      },
      "outputs": [
        {
          "output_type": "stream",
          "name": "stdout",
          "text": [
            "15: 0 17: 1 21: 8\n",
            "15: 1 17: 10 21: 0\n",
            "15: 3 17: 7 21: 1\n",
            "15: 5 17: 4 21: 2\n",
            "15: 7 17: 1 21: 3\n"
          ]
        }
      ],
      "source": [
        "import re\n",
        "\n",
        "def reverse_str(string):\n",
        "  return string[::-1]\n",
        "\n",
        "def find_sub_str(string):\n",
        "  return re.findall(r\"\\\"([^']*)\\\"\", string)\n",
        "\n",
        "def str_to_double_int(string):\n",
        "  return int(string)*2\n",
        "\n",
        "def swap_int(string):\n",
        "  return string[string.find(\" \") + 1:len(string)] + \" \" + string[0:string.find(\" \")]\n",
        "\n",
        "def get_login(string):\n",
        "  return string[0:string.find('@')]\n",
        "\n",
        "def change_tel_number(string):\n",
        "  return re.sub(\"[\\(|\\)|\\-| ]\",\"\",string)\n",
        "\n",
        "def is_palindrom(string):\n",
        "  string = re.sub(\"[ ]\",\"\",string)\n",
        "  string = string.lower()\n",
        "  for i in range(len(string)/2) :\n",
        "    if (string[i] != string[len(string) - 1 - i]) :\n",
        "      return \"It is not a palindrome\"\n",
        "  return \"It is a palindrome\"\n",
        "\n",
        "def del_nine():\n",
        "  string = \"\"\n",
        "  for i in range(1,124):\n",
        "    string += i.__str__()\n",
        "  return re.sub(\"[9]\",\"\",string)\n",
        "\n",
        "def Armstrong():\n",
        "  for i in range(100,1000):\n",
        "    string = i.__str__()\n",
        "    if int(string[0])**3 + int(string[1])**3 + int(string[2])**3 == int(string):\n",
        "      print(string)\n",
        "\n",
        "def automorphic(n: int):\n",
        "  for i in range(1,n+1):\n",
        "    string1 = (i**2).__str__()\n",
        "    string2 = i.__str__()\n",
        "    if string1.endswith(string2):\n",
        "      print(i)\n",
        "\n",
        "def plaster():\n",
        "  for i in range(0,16):\n",
        "    for j in range(0,16):\n",
        "      for k in range(0,16):\n",
        "        if i*15+j*17+k*21 == 185:\n",
        "          print(\"15:\",i,\"17:\",j,\"21:\",k)\n"
      ]
    },
    {
      "cell_type": "code",
      "source": [
        ""
      ],
      "metadata": {
        "id": "MCHUYo0vOeh8"
      },
      "execution_count": null,
      "outputs": []
    }
  ]
}